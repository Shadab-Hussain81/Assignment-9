{
 "cells": [
  {
   "cell_type": "markdown",
   "id": "e57c3a46-1b4d-493e-857e-6d6b4c8b83fc",
   "metadata": {},
   "source": [
    "Q.1 In Python, what is the difference between a built-in function and a user-defined function? Provide an\n",
    "example of each."
   ]
  },
  {
   "cell_type": "markdown",
   "id": "8284d5f6-e435-418d-9370-d02101e327a0",
   "metadata": {},
   "source": [
    "Ans n Python, a built-in function refers to a function that is pre-defined and provided by the Python language itself. These functions are readily available and can be used directly without requiring any additional steps. On the other hand, a user-defined function is created by the user to perform a specific task or set of tasks as per their requirements."
   ]
  },
  {
   "cell_type": "code",
   "execution_count": 4,
   "id": "80309e64-37a8-4b39-83f2-3f4c2f970094",
   "metadata": {},
   "outputs": [
    {
     "name": "stdout",
     "output_type": "stream",
     "text": [
      "5\n"
     ]
    }
   ],
   "source": [
    "#Using the built-in function len()\n",
    "my_list = [1, 2, 3, 4, 5]\n",
    "length = len(my_list)\n",
    "print(length)"
   ]
  },
  {
   "cell_type": "code",
   "execution_count": 3,
   "id": "03279321-6664-4474-8a54-1e16c49bf91c",
   "metadata": {},
   "outputs": [
    {
     "name": "stdout",
     "output_type": "stream",
     "text": [
      "Hello, Alice!\n"
     ]
    }
   ],
   "source": [
    "# Defining a user-defined function\n",
    "def greet(name):\n",
    "    print(\"Hello, \" + name + \"!\")\n",
    "\n",
    "# Using the user-defined function\n",
    "greet(\"Alice\")"
   ]
  },
  {
   "cell_type": "markdown",
   "id": "8fa3859f-438c-42f1-b6c7-65e926b707ca",
   "metadata": {},
   "source": [
    "Q.2. How can you pass arguments to a function in Python? Explain the difference between positional\n",
    "arguments and keyword arguments."
   ]
  },
  {
   "cell_type": "markdown",
   "id": "a09716ac-4d9a-4791-bf54-c315b450cb42",
   "metadata": {},
   "source": [
    "Ans Positional Arguments:\n",
    "Positional arguments are the most basic way to pass arguments to a function. When you call a function with positional arguments, the values are assigned to the function parameters based on their position. The order in which you pass the arguments matters, as they are matched with the parameters in the same order."
   ]
  },
  {
   "cell_type": "code",
   "execution_count": 5,
   "id": "f2142028-52ad-47a9-9d28-cae26fb2c28c",
   "metadata": {},
   "outputs": [
    {
     "name": "stdout",
     "output_type": "stream",
     "text": [
      "8\n"
     ]
    }
   ],
   "source": [
    "def add_numbers(a, b):\n",
    "    return a + b\n",
    "\n",
    "result = add_numbers(3, 5)\n",
    "print(result)  # Output: 8"
   ]
  },
  {
   "cell_type": "markdown",
   "id": "d5e6f82e-24e5-49ff-8c7a-a4a4f553d47a",
   "metadata": {},
   "source": [
    "Keyword Arguments:\n",
    "Keyword arguments allow you to specify the values for function parameters using their names (keywords) instead of relying on their position. By using keyword arguments, you can pass the arguments in any order and even omit some of them."
   ]
  },
  {
   "cell_type": "code",
   "execution_count": 6,
   "id": "4006b9b6-b2d0-44df-a8b0-86b675a2d137",
   "metadata": {},
   "outputs": [
    {
     "name": "stdout",
     "output_type": "stream",
     "text": [
      "Hello Alice ! You are 25 years old.\n"
     ]
    }
   ],
   "source": [
    "def greet(name, age):\n",
    "    print(\"Hello\", name, \"! You are\", age, \"years old.\")\n",
    "\n",
    "greet(name=\"Alice\", age=25)"
   ]
  },
  {
   "cell_type": "markdown",
   "id": "22025032-f975-4e83-b616-cccc6115a321",
   "metadata": {},
   "source": [
    "Q3.What is the purpose of the return statement in a function? Can a function have multiple return\n",
    "statements? Explain with an example."
   ]
  },
  {
   "cell_type": "markdown",
   "id": "943eeda4-3315-49e4-9e19-3c35a5328e26",
   "metadata": {},
   "source": [
    "Ans The purpose of the return statement in a function is to specify the value that the function should produce as its output. It allows the function to return a result back to the caller.\n",
    "\n",
    "Yes, a function can have multiple return statements. When a return statement is encountered in a function, it immediately terminates the execution of the function and returns the specified value."
   ]
  },
  {
   "cell_type": "code",
   "execution_count": 20,
   "id": "061114c7-f40c-4cdf-bbe1-05d31255f19c",
   "metadata": {},
   "outputs": [
    {
     "name": "stdout",
     "output_type": "stream",
     "text": [
      "B\n",
      "C\n"
     ]
    }
   ],
   "source": [
    "def get_grade(score):\n",
    "    if score >= 90:\n",
    "        return \"A\"\n",
    "    elif score >= 80:\n",
    "        return \"B\"\n",
    "    elif score >= 70:\n",
    "        return \"C\"\n",
    "    elif score >= 60:\n",
    "        return \"D\"\n",
    "    else:\n",
    "        return \"F\"\n",
    "\n",
    "grade1 = get_grade(85)\n",
    "print(grade1)  # Output: B\n",
    "\n",
    "grade2 = get_grade(75)\n",
    "print(grade2)  # Output: C"
   ]
  },
  {
   "cell_type": "markdown",
   "id": "d4d254a7-877f-4dfc-ad50-149448a7d8b5",
   "metadata": {},
   "source": [
    "Q4. What are lambda functions in Python? How are they different from regular functions? Provide an\n",
    "example where a lambda function can be useful."
   ]
  },
  {
   "cell_type": "markdown",
   "id": "12170da5-4c51-45e6-8143-fb8e93e55db7",
   "metadata": {},
   "source": [
    "Ans Lambda functions, also known as anonymous functions, are a way to create small, one-line functions in Python. Unlike regular functions defined using the def keyword, lambda functions are defined using the lambda keyword.\n",
    "\n",
    "The syntax of a lambda function is as follows: lambda arguments: expression\n",
    "\n",
    "Here, arguments refer to the input parameters of the function, and expression is the computation or operation that the lambda function performs. The result of the expression is returned automatically.\n",
    "\n",
    "One key difference between lambda functions and regular functions is that lambda functions can only contain a single expression. They are primarily used for simple, concise operations where defining a regular function would be unnecessary or cumbersome."
   ]
  },
  {
   "cell_type": "code",
   "execution_count": 21,
   "id": "34bc50f8-0fad-4eb3-8d14-01902a964847",
   "metadata": {},
   "outputs": [
    {
     "name": "stdout",
     "output_type": "stream",
     "text": [
      "[2, 4, 6, 8, 10]\n",
      "[2, 4, 6, 8, 10]\n"
     ]
    }
   ],
   "source": [
    "numbers = [1, 2, 3, 4, 5, 6, 7, 8, 9, 10]\n",
    "\n",
    "# Using a regular function\n",
    "def is_even(num):\n",
    "    return num % 2 == 0\n",
    "\n",
    "even_numbers = list(filter(is_even, numbers))\n",
    "print(even_numbers)  # Output: [2, 4, 6, 8, 10]\n",
    "\n",
    "# Using a lambda function\n",
    "even_numbers = list(filter(lambda num: num % 2 == 0, numbers))\n",
    "print(even_numbers)  # Output: [2, 4, 6, 8, 10]"
   ]
  },
  {
   "cell_type": "markdown",
   "id": "4cdf46e1-72b3-482f-a1a3-dc05c362f828",
   "metadata": {},
   "source": [
    "Q5. How does the concept of \"scope\" apply to functions in Python? Explain the difference between local\n",
    "scope and global scope."
   ]
  },
  {
   "cell_type": "markdown",
   "id": "3eb8d90f-3ae7-421d-9213-ffb38c2e8569",
   "metadata": {},
   "source": [
    "Ans In Python, the concept of \"scope\" refers to the region or context in which a variable or name is recognized and can be accessed. It determines the visibility and lifetime of a variable within a program. Scope helps to organize and manage variables in a way that prevents naming conflicts and allows for better code organization and reusability.\n",
    "\n",
    "Python has two main types of scope: local scope and global scope.\n",
    "\n",
    "Local Scope:\n",
    "\n",
    "1.Local scope refers to the region within a function or a block of code.\n",
    "Variables defined within this scope are only accessible from within the function or block where they are defined.\n",
    "Local variables have a limited lifetime and are destroyed once the function or block of code is executed and exits.\n",
    "Any reference to the variable outside its local scope will result in a NameError.\n",
    "Local scope can be nested within other local scopes, with each level having its own set of variables.\n",
    "Global Scope:\n",
    "\n",
    "2.Global scope refers to the region outside of any function or block of code.\n",
    "Variables defined in the global scope are accessible from anywhere in the program, including within functions and blocks.\n",
    "Global variables have a longer lifetime compared to local variables. They persist throughout the execution of the program.\n",
    "Global variables can be accessed, modified, or assigned new values from any part of the program.\n",
    "If a variable is referenced within a local scope and it's not defined locally, Python will look for it in the global scope."
   ]
  },
  {
   "cell_type": "markdown",
   "id": "65af455d-cf2e-4b6a-bfeb-490dc51fd459",
   "metadata": {},
   "source": [
    "Q6. How can you use the \"return\" statement in a Python function to return multiple values?"
   ]
  },
  {
   "cell_type": "markdown",
   "id": "e9533653-bf46-4740-8724-775851286efb",
   "metadata": {},
   "source": [
    "Ans In Python, the return statement is used to exit a function and optionally return a value. While it typically returns a single value, you can also use it to return multiple values by returning them as a tuple, list, or any other iterable object. Here's an example:"
   ]
  },
  {
   "cell_type": "code",
   "execution_count": 22,
   "id": "6ee9cedd-a452-402d-ad97-5bf46efca464",
   "metadata": {},
   "outputs": [
    {
     "name": "stdout",
     "output_type": "stream",
     "text": [
      "(10, 'Hello', [1, 2, 3])\n"
     ]
    }
   ],
   "source": [
    "def get_values():\n",
    "    value1 = 10\n",
    "    value2 = \"Hello\"\n",
    "    value3 = [1, 2, 3]\n",
    "    return value1, value2, value3\n",
    "\n",
    "result = get_values()\n",
    "print(result)"
   ]
  },
  {
   "cell_type": "markdown",
   "id": "69411491-0c38-497b-b9d2-65188aaa62ba",
   "metadata": {},
   "source": [
    "Q7. What is the difference between the \"pass by value\" and \"pass by reference\" concepts when it\n",
    "comes to function arguments in Python?"
   ]
  },
  {
   "cell_type": "markdown",
   "id": "3721da84-357b-4d80-9bef-80bb5f670e36",
   "metadata": {},
   "source": [
    "Ans By default, Python uses a mechanism called \"passing arguments by assignment.\" When you pass an argument to a function, a new reference to the object is created and assigned to the function parameter. The behavior of this assignment can vary depending on the type of the object being passed.\n",
    "\n",
    "Pass by Value:\n",
    "For immutable objects like numbers, strings, and tuples, the assignment creates a new copy of the value. Any modifications made to the parameter inside the function do not affect the original object that was passed."
   ]
  },
  {
   "cell_type": "code",
   "execution_count": 11,
   "id": "1e1f84a0-de51-4282-b881-4463de73e970",
   "metadata": {},
   "outputs": [
    {
     "name": "stdout",
     "output_type": "stream",
     "text": [
      "5\n"
     ]
    }
   ],
   "source": [
    "def increment_value(num):\n",
    "    num += 1\n",
    "\n",
    "value = 5\n",
    "increment_value(value)\n",
    "print(value)  # Output: 5 (unchanged)"
   ]
  },
  {
   "cell_type": "markdown",
   "id": "b304bdc9-2363-4d97-93e8-7dd9cea0301d",
   "metadata": {},
   "source": [
    "Pass by Reference:\n",
    "For mutable objects like lists, dictionaries, and user-defined objects, the assignment creates a new reference to the same object. Any modifications made to the parameter inside the function affect the original object."
   ]
  },
  {
   "cell_type": "code",
   "execution_count": 12,
   "id": "f0a6b41f-483b-4291-9e51-4ac54b58dde2",
   "metadata": {},
   "outputs": [
    {
     "name": "stdout",
     "output_type": "stream",
     "text": [
      "[1, 2, 3, 4]\n"
     ]
    }
   ],
   "source": [
    "def append_item(lst):\n",
    "    lst.append(4)\n",
    "\n",
    "my_list = [1, 2, 3]\n",
    "append_item(my_list)\n",
    "print(my_list)  # Output: [1, 2, 3, 4] (modified)"
   ]
  },
  {
   "cell_type": "markdown",
   "id": "4cf42228-6da7-4b7a-b6d2-8faf1c6b0213",
   "metadata": {},
   "source": [
    "Q8. Create a function that can intake integer or decimal value and do following operations:\n",
    "a. Logarithmic function (log x)\n",
    "b. Exponential function (exp(x))\n",
    "c. Power function with base 2 (2\n",
    "x\n",
    ")\n",
    "\n",
    "d. Square root"
   ]
  },
  {
   "cell_type": "code",
   "execution_count": 15,
   "id": "2f50d216-5fbf-4ab5-8dac-2de2c5d962c2",
   "metadata": {},
   "outputs": [],
   "source": [
    "import math\n",
    "\n",
    "def perform_operations(value):\n",
    "    result = {}\n",
    "    \n",
    "    result['logarithmic'] = math.log(value)\n",
    "    result['exponential'] = math.exp(value)\n",
    "    result['power_of_two'] = math.pow(2, value)\n",
    "    result['square_root'] = math.sqrt(value)\n",
    "    \n",
    "    return result"
   ]
  },
  {
   "cell_type": "markdown",
   "id": "511ae615-f539-4019-bb05-7541f60fda6b",
   "metadata": {},
   "source": [
    "this function takes a value as input and returns a dictionary with the results of the logarithmic function, exponential function, power function with base 2, and square root. You can call this function with an integer or decimal value, and it will calculate and return the results accordingly."
   ]
  },
  {
   "cell_type": "code",
   "execution_count": 16,
   "id": "679b475d-d40e-47d2-a125-d197d8e40711",
   "metadata": {},
   "outputs": [
    {
     "name": "stdout",
     "output_type": "stream",
     "text": [
      "1.6094379124341003\n",
      "148.4131591025766\n",
      "32.0\n",
      "2.23606797749979\n"
     ]
    }
   ],
   "source": [
    "#example\n",
    "value = 5.0\n",
    "results = perform_operations(value)\n",
    "\n",
    "print(results['logarithmic'])        # Output: 1.6094379124341003\n",
    "print(results['exponential'])        # Output: 148.4131591025766\n",
    "print(results['power_of_two'])       # Output: 32.0\n",
    "print(results['square_root'])        # Output: 2.23606797749979"
   ]
  },
  {
   "cell_type": "markdown",
   "id": "43bfd5bb-9c8d-41cc-90c8-5f49f5ef393a",
   "metadata": {},
   "source": [
    "Q9. Create a function that takes a full name as an argument and returns first name and last name."
   ]
  },
  {
   "cell_type": "code",
   "execution_count": 18,
   "id": "d9aee63a-5343-4709-bace-ad26f366c148",
   "metadata": {},
   "outputs": [],
   "source": [
    "# Python function that takes a full name as an argument and returns the first name and last name:\n",
    "def get_first_last_name(full_name):\n",
    "    names = full_name.split()\n",
    "    first_name = names[0]\n",
    "    last_name = names[-1]\n",
    "    return first_name, last_name"
   ]
  },
  {
   "cell_type": "code",
   "execution_count": 19,
   "id": "2ac3045c-c210-48c6-849c-7770ac560d5c",
   "metadata": {},
   "outputs": [
    {
     "name": "stdout",
     "output_type": "stream",
     "text": [
      "First Name: John\n",
      "Last Name: Doe\n"
     ]
    }
   ],
   "source": [
    "# this function by passing a full name as an argument, like this:\n",
    "full_name = \"John Doe\"\n",
    "first_name, last_name = get_first_last_name(full_name)\n",
    "print(\"First Name:\", first_name)\n",
    "print(\"Last Name:\", last_name)"
   ]
  },
  {
   "cell_type": "code",
   "execution_count": null,
   "id": "2b5a1f8a-a84a-4ebd-866a-d72655e732b1",
   "metadata": {},
   "outputs": [],
   "source": []
  }
 ],
 "metadata": {
  "kernelspec": {
   "display_name": "Python 3 (ipykernel)",
   "language": "python",
   "name": "python3"
  },
  "language_info": {
   "codemirror_mode": {
    "name": "ipython",
    "version": 3
   },
   "file_extension": ".py",
   "mimetype": "text/x-python",
   "name": "python",
   "nbconvert_exporter": "python",
   "pygments_lexer": "ipython3",
   "version": "3.10.6"
  }
 },
 "nbformat": 4,
 "nbformat_minor": 5
}
